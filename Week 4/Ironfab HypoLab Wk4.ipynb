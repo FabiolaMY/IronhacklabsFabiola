{
 "cells": [
  {
   "cell_type": "markdown",
   "id": "7cce9bd3",
   "metadata": {},
   "source": [
    "# Hypothesis Testing for Honolulu Heart Study\n",
    "It is assumed that the mean systolic blood pressure is μ = 120 mm Hg. In the Honolulu Heart Study, a sample of n = 100 people had an average systolic blood pressure of 130.1 mm Hg with a standard deviation of 21.21 mm Hg. Is the group significantly different (with respect to systolic blood pressure!) from the regular population?"
   ]
  },
  {
   "cell_type": "markdown",
   "id": "899804a6",
   "metadata": {},
   "source": [
    "null hypothesis (H0) is μ = 120 mm Hg\n",
    "alternative hypothesis(Ha) is μ != 120 mm Hg\n",
    "population mean =120 mm Hg\n",
    "Sample size(n) = 100\n",
    "sample mean = 130.1 mm Hg\n",
    "sample standard deviation = 21.22 mm Hg¶\n",
    "Test to be used is T-Test"
   ]
  },
  {
   "cell_type": "markdown",
   "id": "a467d26e",
   "metadata": {},
   "source": [
    "## Testing using Test Statistic"
   ]
  },
  {
   "cell_type": "markdown",
   "id": "5c842278",
   "metadata": {},
   "source": [
    "### calculation of  the test statistic based on\n",
    "The population mean, sample mean and sample deviation\n",
    "Calculation = (130.1-120)/(21.21/100**(1/2))\n",
    "####          t= 4.7619047619\n",
    "degree of freedom (usually gotten by taking the value of the sample size minus one n-1) df=99\n",
    "Critical value of the distribution with 99 degrees of freedom and 95% significance \n",
    "####          tc = 1.984\n",
    "### because test statistics falls within the rejection zone (4.76 > 1.984) we reject the null hypothesis and we can also conclude based on the that our critical value (pv) is less than alpha (5%) \n"
   ]
  },
  {
   "cell_type": "code",
   "execution_count": 2,
   "id": "0350cd61",
   "metadata": {},
   "outputs": [],
   "source": [
    "import numpy as np\n",
    "import pandas as pd\n",
    "import scipy.stats as stats\n",
    "import matplotlib.pyplot as plt\n",
    "import seaborn as sns\n",
    "\n",
    "%matplotlib inline"
   ]
  },
  {
   "cell_type": "code",
   "execution_count": 7,
   "id": "8374aa91",
   "metadata": {},
   "outputs": [
    {
     "name": "stdout",
     "output_type": "stream",
     "text": [
      "The tc critical value is: 1.984\n"
     ]
    }
   ],
   "source": [
    "tc = stats.t.ppf(1-(0.05/2),df = 99)\n",
    "print(\"The tc critical value is: {:.3f}\".format(tc))"
   ]
  },
  {
   "cell_type": "code",
   "execution_count": null,
   "id": "8097b3b0",
   "metadata": {},
   "outputs": [],
   "source": []
  }
 ],
 "metadata": {
  "kernelspec": {
   "display_name": "Python 3 (ipykernel)",
   "language": "python",
   "name": "python3"
  },
  "language_info": {
   "codemirror_mode": {
    "name": "ipython",
    "version": 3
   },
   "file_extension": ".py",
   "mimetype": "text/x-python",
   "name": "python",
   "nbconvert_exporter": "python",
   "pygments_lexer": "ipython3",
   "version": "3.9.7"
  }
 },
 "nbformat": 4,
 "nbformat_minor": 5
}
