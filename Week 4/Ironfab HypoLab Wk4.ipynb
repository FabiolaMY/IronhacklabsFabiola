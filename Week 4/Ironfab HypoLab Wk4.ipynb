{
 "cells": [
  {
   "cell_type": "markdown",
   "id": "62d69962",
   "metadata": {},
   "source": [
    "# Hypothesis Testing for Honolulu Heart Study\n",
    "It is assumed that the mean systolic blood pressure is μ = 120 mm Hg. In the Honolulu Heart Study, a sample of n = 100 people had an average systolic blood pressure of 130.1 mm Hg with a standard deviation of 21.21 mm Hg. Is the group significantly different (with respect to systolic blood pressure!) from the regular population?"
   ]
  },
  {
   "cell_type": "markdown",
   "id": "f5716cc7",
   "metadata": {},
   "source": [
    "null hypothesis (H0) is μ = 120 mm Hg\n",
    "alternative hypothesis(Ha) is μ != 120 mm Hg\n",
    "population mean =120 mm Hg\n",
    "Sample size(n) = 100\n",
    "sample mean = 130.1 mm Hg\n",
    "sample standard deviation = 21.22 mm Hg¶\n",
    "Test to be used is T-Test"
   ]
  },
  {
   "cell_type": "markdown",
   "id": "bb6e9e57",
   "metadata": {},
   "source": [
    "## Testing using Test Statistic"
   ]
  },
  {
   "cell_type": "markdown",
   "id": "6d103a69",
   "metadata": {},
   "source": [
    "### calculation of  the test statistic based on\n",
    "The population mean, sample mean and sample deviation\n",
    "Calculation = (130.1-120)/(21.21/100**(1/2))\n",
    "####          t= 4.7619047619\n",
    "degree of freedom (usually gotten by taking the value of the sample size minus one n-1) df=99\n",
    "Critical value of the distribution with 99 degrees of freedom and 95% significance \n",
    "####          tc = 1.984\n",
    "### because test statistics falls within the rejection zone (4.76 > 1.984) we reject the null hypothesis and we can also conclude based on the that our critical value (pv) is less than alpha (5%) \n"
   ]
  },
  {
   "cell_type": "code",
   "execution_count": 2,
   "id": "b0475cbe",
   "metadata": {},
   "outputs": [],
   "source": [
    "import numpy as np\n",
    "import pandas as pd\n",
    "import scipy.stats as stats\n",
    "import matplotlib.pyplot as plt\n",
    "import seaborn as sns\n",
    "\n",
    "%matplotlib inline"
   ]
  },
  {
   "cell_type": "code",
   "execution_count": 7,
   "id": "a0412d42",
   "metadata": {},
   "outputs": [
    {
     "name": "stdout",
     "output_type": "stream",
     "text": [
      "The tc critical value is: 1.984\n"
     ]
    }
   ],
   "source": [
    "tc = stats.t.ppf(1-(0.05/2),df = 99)\n",
    "print(\"The tc critical value is: {:.3f}\".format(tc))"
   ]
  },
  {
   "cell_type": "code",
   "execution_count": 8,
   "id": "420997ab",
   "metadata": {},
   "outputs": [],
   "source": [
    "import matplotlib.pyplot as plt\n",
    "import numpy as np\n",
    "import scipy.stats as stats\n",
    "import math\n",
    "\n",
    "%matplotlib inline\n",
    "\n",
    "def visual_test(statistic, critical, dist = 'Norm', df = 0):\n",
    "    '''\n",
    "    Function to plot the normal or the t-student distribution \n",
    "    showing the location of the critical values and the statistic location.\n",
    "    Inputs:\n",
    "        statistic -> user's statistic\n",
    "        critical  -> critical value\n",
    "    Parameter:\n",
    "        dist -> distribution to use\n",
    "        df   -> degrees of freedom\n",
    "    Outputs:\n",
    "        Plots the corresponding distribution showin the user statistic location and the critical value.\n",
    "    '''\n",
    "\n",
    "    mu = 0\n",
    "    sigma = 1\n",
    "\n",
    "    x = np.linspace(mu - 4*sigma, mu + 4*sigma, 100)\n",
    "    x0 = np.linspace(mu - 4*sigma, mu + 4*sigma, 100)\n",
    "\n",
    "    if ( dist == 'Norm' ):\n",
    "        plt.plot(x, stats.norm.pdf(x, mu, sigma))\n",
    "        plt.fill_between(x0,stats.norm.pdf(x, mu, sigma),where = (x < -critical),facecolor='red')\n",
    "        plt.fill_between(x0,stats.norm.pdf(x, mu, sigma),where = (x > critical),facecolor='red')\n",
    "    else:\n",
    "        if ( df == 0 ):\n",
    "            while ( df == 0 or type(df) != int):\n",
    "                try:\n",
    "                    df = int(input(\"Set the correct value of degrees of freedom please: \" )) \n",
    "                except:\n",
    "                    df = 0       \n",
    "        plt.plot(x, stats.t.pdf(x,df))\n",
    "        plt.fill_between(x0,stats.t.pdf(x,df),where = (x < -critical),facecolor='red')\n",
    "        plt.fill_between(x0,stats.t.pdf(x,df),where = (x > critical),facecolor='red')\n",
    "\n",
    "    plt.axvline(-critical, c = 'r')\n",
    "    plt.axvline(critical, c = 'r')\n",
    "    plt.axvline(-statistic,c='b')\n",
    "    plt.axvline(statistic,c='b')\n",
    "\n",
    "    plt.show()"
   ]
  },
  {
   "cell_type": "code",
   "execution_count": 9,
   "id": "b2cf6568",
   "metadata": {},
   "outputs": [
    {
     "ename": "NameError",
     "evalue": "name 't' is not defined",
     "output_type": "error",
     "traceback": [
      "\u001b[1;31m---------------------------------------------------------------------------\u001b[0m",
      "\u001b[1;31mNameError\u001b[0m                                 Traceback (most recent call last)",
      "Input \u001b[1;32mIn [9]\u001b[0m, in \u001b[0;36m<cell line: 1>\u001b[1;34m()\u001b[0m\n\u001b[1;32m----> 1\u001b[0m visual_test(\u001b[43mt\u001b[49m,tc,dist \u001b[38;5;241m=\u001b[39m \u001b[38;5;124m'\u001b[39m\u001b[38;5;124mt\u001b[39m\u001b[38;5;124m'\u001b[39m,df\u001b[38;5;241m=\u001b[39m\u001b[38;5;241m99\u001b[39m)\n",
      "\u001b[1;31mNameError\u001b[0m: name 't' is not defined"
     ]
    }
   ],
   "source": [
    "visual_test(t,tc,dist = 't',df=99)"
   ]
  },
  {
   "cell_type": "code",
   "execution_count": null,
   "id": "0c60f088",
   "metadata": {},
   "outputs": [],
   "source": []
  }
 ],
 "metadata": {
  "kernelspec": {
   "display_name": "Python 3 (ipykernel)",
   "language": "python",
   "name": "python3"
  },
  "language_info": {
   "codemirror_mode": {
    "name": "ipython",
    "version": 3
   },
   "file_extension": ".py",
   "mimetype": "text/x-python",
   "name": "python",
   "nbconvert_exporter": "python",
   "pygments_lexer": "ipython3",
   "version": "3.9.7"
  }
 },
 "nbformat": 4,
 "nbformat_minor": 5
}
