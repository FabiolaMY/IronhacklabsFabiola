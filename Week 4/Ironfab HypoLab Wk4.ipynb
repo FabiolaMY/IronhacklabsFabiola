{
 "cells": [
  {
   "cell_type": "markdown",
   "id": "9c595c2b",
   "metadata": {},
   "source": [
    "## Hypothesis Testing for Honolulu Heart Study"
   ]
  },
  {
   "cell_type": "markdown",
   "id": "f9ab1cdd",
   "metadata": {},
   "source": [
    "### null hypothesis (H0) is μ = 120 mm Hg\n",
    "### alternative hypothesis(Ha) is  μ != 120 mm Hg\n",
    "#### population mean =120 mm Hg\n",
    "#### Sample size(n) = 100\n",
    "#### sample mean = 130.1 mm Hg\n",
    "#### sample standard deviation = 21.22 mm Hg\n",
    "### Test to be used is T-Test\n"
   ]
  },
  {
   "cell_type": "markdown",
   "id": "0033a3ab",
   "metadata": {},
   "source": [
    "## Testing using Test Statistic"
   ]
  }
 ],
 "metadata": {
  "kernelspec": {
   "display_name": "Python 3 (ipykernel)",
   "language": "python",
   "name": "python3"
  },
  "language_info": {
   "codemirror_mode": {
    "name": "ipython",
    "version": 3
   },
   "file_extension": ".py",
   "mimetype": "text/x-python",
   "name": "python",
   "nbconvert_exporter": "python",
   "pygments_lexer": "ipython3",
   "version": "3.9.7"
  }
 },
 "nbformat": 4,
 "nbformat_minor": 5
}
